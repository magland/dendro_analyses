{
 "cells": [
  {
   "cell_type": "code",
   "execution_count": 1,
   "metadata": {},
   "outputs": [
    {
     "name": "stdout",
     "output_type": "stream",
     "text": [
      "1: 000713 | sub-506940/sub-506940_ses-20200302T102159_image.nwb | from cache\n",
      "2: 000713 | sub-506940/sub-506940_ses-20200228T111117_image.nwb | from cache\n",
      "3: 000713 | sub-506940/sub-506940_ses-20200304T101331_image.nwb | from cache\n",
      "4: 000713 | sub-506940/sub-506940_ses-20200305T100947_image.nwb | from cache\n",
      "5: 000713 | sub-506940/sub-506940_ses-20200303T100853_image.nwb | from cache\n",
      "6: 000713 | sub-506940/sub-506940_ses-20200306T123640_image.nwb | from cache\n",
      "7: 000713 | sub-506940/sub-506940_ses-20200309T125235_image.nwb | from cache\n",
      "8: 000713 | sub-506940/sub-506940_ses-20200310T130232_image.nwb | from cache\n",
      "9: 000713 | sub-506940/sub-506940_ses-20200312T131243_image.nwb | from cache\n",
      "10: 000713 | sub-506940/sub-506940_ses-20200311T140801_image.nwb | from cache\n",
      "11: 000713 | sub-506940/sub-506940_ses-20200313T135147_image.nwb | from cache\n",
      "12: 000713 | sub-506940/sub-506940_ses-20200319T143353_image.nwb | from cache\n",
      "13: 000713 | sub-506940/sub-506940_ses-20200316T151625_image.nwb | from cache\n",
      "14: 000713 | sub-506940/sub-506940_ses-20200317T151806_image.nwb | from cache\n",
      "15: 000713 | sub-506940/sub-506940_ses-20200318T145105_image.nwb | from cache\n",
      "16: 000713 | sub-506940/sub-506940_ses-20200320T144744_image.nwb | from cache\n",
      "17: 000713 | sub-506940/sub-506940_ses-20200323T102016_image.nwb | from cache\n",
      "18: 000713 | sub-506940/sub-506940_ses-20200805T092722_image.nwb | from cache\n",
      "19: 000713 | sub-506940/sub-506940_ses-20200807T114628_image.nwb | from cache\n",
      "20: 000713 | sub-506940/sub-506940_ses-20200806T110849_image.nwb | from cache\n",
      "21: 000713 | sub-506940/sub-506940_ses-20200804T163032_image.nwb | from cache\n",
      "22: 000713 | sub-506940/sub-506940_ses-20200812T131312_image.nwb | from cache\n",
      "23: 000713 | sub-506940/sub-506940_ses-20200814T150956_image.nwb | from cache\n",
      "24: 000713 | sub-506940/sub-506940_ses-20200813T164510_image.nwb | from cache\n",
      "25: 000713 | sub-506940/sub-506940_ses-20200811T133810_image.nwb | from cache\n",
      "26: 000713 | sub-506940/sub-506940_ses-20200817T222149.nwb | from cache\n",
      "27: 000713 | sub-506940/sub-506940_ses-None_probe-1158270877_ecephys.nwb | from cache\n",
      "28: 000713 | sub-506940/sub-506940_ses-None_probe-1158270876_ecephys.nwb | from cache\n",
      "29: 000713 | sub-506940/sub-506940_ses-None_probe-1158270872_ecephys.nwb | from cache\n",
      "30: 000713 | sub-506940/sub-506940_ses-20200818T230819.nwb | from cache\n",
      "31: 000713 | sub-506940/sub-506940_ses-None_probe-1158270878_ecephys.nwb | from cache\n",
      "32: 000713 | sub-506940/sub-506940_ses-None_probe-1160283385_ecephys.nwb | from cache\n",
      "33: 000713 | sub-506940/sub-506940_ses-None_probe-1158270879_ecephys.nwb | from cache\n",
      "34: 000713 | sub-506940/sub-506940_ses-None_probe-1158270880_ecephys.nwb | from cache\n",
      "35: 000713 | sub-506940/sub-506940_ses-None_probe-1160283386_ecephys.nwb | from cache\n",
      "36: 000713 | sub-509808/sub-509808_ses-20200515T143158_image.nwb | from cache\n",
      "37: 000713 | sub-506940/sub-506940_ses-None_probe-1160283388_ecephys.nwb | from cache\n",
      "38: 000713 | sub-506940/sub-506940_ses-None_probe-1160283387_ecephys.nwb | from cache\n",
      "39: 000713 | sub-509808/sub-509808_ses-20200520T130509_image.nwb | from cache\n",
      "40: 000713 | sub-509808/sub-509808_ses-20200518T122518_image.nwb | from cache\n",
      "41: 000713 | sub-509808/sub-509808_ses-20200519T120906_image.nwb | from cache\n",
      "42: 000713 | sub-506940/sub-506940_ses-None_probe-1160283390_ecephys.nwb | from cache\n",
      "43: 000713 | sub-506940/sub-506940_ses-None_probe-1160283389_ecephys.nwb | from cache\n",
      "44: 000713 | sub-509808/sub-509808_ses-20200521T130555_image.nwb | from cache\n",
      "45: 000713 | sub-509808/sub-509808_ses-20200526T125132_image.nwb | from cache\n",
      "46: 000713 | sub-509808/sub-509808_ses-20200522T120924_image.nwb | from cache\n",
      "47: 000713 | sub-509808/sub-509808_ses-20200527T124909_image.nwb | from cache\n",
      "48: 000713 | sub-509808/sub-509808_ses-20200529T123242_image.nwb | from cache\n",
      "49: 000713 | sub-509808/sub-509808_ses-20200528T124147_image.nwb | from cache\n",
      "50: 000713 | sub-509808/sub-509808_ses-20200602T125220_image.nwb | from cache\n",
      "51: 000713 | sub-509808/sub-509808_ses-20200605T125604_image.nwb | from cache\n",
      "52: 000713 | sub-509808/sub-509808_ses-20200603T124439_image.nwb | from cache\n",
      "53: 000713 | sub-509808/sub-509808_ses-20200601T123514_image.nwb\n",
      "54: 000713 | sub-509808/sub-509808_ses-20200608T122820_image.nwb\n",
      "55: 000713 | sub-509808/sub-509808_ses-20200609T124614_image.nwb\n",
      "56: 000713 | sub-509808/sub-509808_ses-20200611T135542_image.nwb\n",
      "57: 000713 | sub-509808/sub-509808_ses-20200616T123852_image.nwb\n",
      "58: 000713 | sub-509808/sub-509808_ses-20200617T123307_image.nwb\n"
     ]
    }
   ],
   "source": [
    "from dandi_nwb_meta import process_dandiset\n",
    "\n",
    "process_dandiset(\"000713\", \"000713.json.gz\")"
   ]
  },
  {
   "cell_type": "code",
   "execution_count": null,
   "metadata": {},
   "outputs": [],
   "source": []
  }
 ],
 "metadata": {
  "kernelspec": {
   "display_name": "dev",
   "language": "python",
   "name": "python3"
  },
  "language_info": {
   "codemirror_mode": {
    "name": "ipython",
    "version": 3
   },
   "file_extension": ".py",
   "mimetype": "text/x-python",
   "name": "python",
   "nbconvert_exporter": "python",
   "pygments_lexer": "ipython3",
   "version": "3.11.5"
  }
 },
 "nbformat": 4,
 "nbformat_minor": 2
}
