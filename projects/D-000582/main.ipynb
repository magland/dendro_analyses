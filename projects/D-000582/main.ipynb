{
 "cells": [
  {
   "cell_type": "code",
   "execution_count": 10,
   "metadata": {},
   "outputs": [],
   "source": [
    "import h5py\n",
    "import pynwb\n",
    "import pynapple as nap\n",
    "import dendro.client as prc\n",
    "import remfile\n",
    "from TuningCurves2DView import TuningCurves2DView\n",
    "\n",
    "\n",
    "# Load project D-000582\n",
    "project = prc.load_project(\"a7852166\")\n",
    "dandiset_id = \"000582\"\n",
    "\n",
    "# Select an NWB file\n",
    "asset_path = \"sub-10073/sub-10073_ses-17010302_behavior+ecephys.nwb\"\n",
    "\n",
    "# Lazy load NWB file\n",
    "file = remfile.File(project.get_file(f\"imported/{dandiset_id}/{asset_path}\"))\n",
    "io = pynwb.NWBHDF5IO(file=h5py.File(file, \"r\"), mode=\"r\")\n",
    "nwbfile = io.read()"
   ]
  },
  {
   "cell_type": "code",
   "execution_count": 11,
   "metadata": {},
   "outputs": [
    {
     "name": "stderr",
     "output_type": "stream",
     "text": [
      "/tmp/ipykernel_20458/1564342580.py:12: UserWarning: Elements should not be passed as numpy array. Default time units is seconds when creating the Ts object.\n",
      "  spike_times_group = nap.TsGroup(\n",
      "/home/magland/miniconda3/envs/dev/lib/python3.9/site-packages/pynapple/process/tuning_curves.py:203: RuntimeWarning: invalid value encountered in divide\n",
      "  count = count / occupancy\n"
     ]
    }
   ],
   "source": [
    "# Load the spatial series into a pynapple TsdFrame\n",
    "spatial_series = nwbfile.processing[\"behavior\"][\"Position\"][\"SpatialSeriesLED1\"]\n",
    "position_over_time = nap.TsdFrame(\n",
    "    d=spatial_series.data[:],\n",
    "    t=spatial_series.timestamps[:],\n",
    "    columns=[\"x\", \"y\"],\n",
    ")\n",
    "\n",
    "# Load the unit spike times into a pynapple TsGroup\n",
    "unit_names = nwbfile.units[\"unit_name\"][:]\n",
    "unit_spike_times = nwbfile.units[\"spike_times\"][:]\n",
    "spike_times_group = nap.TsGroup(\n",
    "    {i: unit_spike_times[i] for i in range(len(unit_names))}\n",
    ")\n",
    "\n",
    "# Compute 2D tuning curves\n",
    "num_bins = 30\n",
    "rate_maps, position_bins = nap.compute_2d_tuning_curves(\n",
    "    spike_times_group,\n",
    "    position_over_time,\n",
    "    num_bins,\n",
    ")"
   ]
  },
  {
   "cell_type": "code",
   "execution_count": 12,
   "metadata": {},
   "outputs": [
    {
     "name": "stdout",
     "output_type": "stream",
     "text": [
      "https://figurl.org/f?v=https://figurl-tuning-curves-1.surge.sh&d=sha1://ee7e7b9368aee938bbafe840fb9b21f3f7ca89aa&label=000582/sub-10073/sub-10073_ses-17010302_behavior+ecephys.nwb|tuning-curves-2d\n"
     ]
    },
    {
     "data": {
      "text/html": [
       "\n",
       "        <iframe\n",
       "            width=\"95%\"\n",
       "            height=\"500\"\n",
       "            src=\"https://figurl.org/f?v=https://figurl-tuning-curves-1.surge.sh&d=sha1://ee7e7b9368aee938bbafe840fb9b21f3f7ca89aa&label=000582/sub-10073/sub-10073_ses-17010302_behavior+ecephys.nwb|tuning-curves-2d&hide=1\"\n",
       "            frameborder=\"0\"\n",
       "            allowfullscreen\n",
       "            \n",
       "        ></iframe>\n",
       "        "
      ],
      "text/plain": [
       "<IPython.lib.display.IFrame at 0x7f589581a370>"
      ]
     },
     "metadata": {},
     "output_type": "display_data"
    }
   ],
   "source": [
    "# Construct a tuning curves figurl view\n",
    "V = TuningCurves2DView(\n",
    "    rate_maps=[rate_maps[i] for i in range(len(unit_names))],\n",
    "    x_bin_positions=position_bins[0],\n",
    "    y_bin_positions=position_bins[1],\n",
    "    unit_ids=unit_names,\n",
    "    unit_num_spikes=[len(spike_times_group[i]) for i in range(len(unit_names))],\n",
    ")\n",
    "view_url = V.get_view_url(label=f\"{dandiset_id}/{asset_path}|tuning-curves-2d\")\n",
    "\n",
    "# Print the view URL\n",
    "print(view_url)\n",
    "\n",
    "# Display the view in an iframe\n",
    "from IPython.display import IFrame\n",
    "display(IFrame(view_url + \"&hide=1\", width=\"95%\", height=500))"
   ]
  }
 ],
 "metadata": {
  "kernelspec": {
   "display_name": "dev",
   "language": "python",
   "name": "python3"
  },
  "language_info": {
   "codemirror_mode": {
    "name": "ipython",
    "version": 3
   },
   "file_extension": ".py",
   "mimetype": "text/x-python",
   "name": "python",
   "nbconvert_exporter": "python",
   "pygments_lexer": "ipython3",
   "version": "3.9.18"
  }
 },
 "nbformat": 4,
 "nbformat_minor": 2
}
