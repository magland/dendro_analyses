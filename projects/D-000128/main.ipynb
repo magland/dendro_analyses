{
 "cells": [
  {
   "cell_type": "markdown",
   "metadata": {},
   "source": [
    "### 000128 - 2D tuning curves demonstration\n",
    "\n",
    "This notebook demonstrates the calculation of 2D tuning curves using Pynapple and the visualization of the results using Figurl.\n",
    "\n",
    "To produce the results in this notebook, you will need to initialize your kachery-cloud client via `kachery-cloud-init` in a terminal."
   ]
  },
  {
   "cell_type": "code",
   "execution_count": 1,
   "metadata": {},
   "outputs": [],
   "source": [
    "import h5py\n",
    "import pynwb\n",
    "import pynapple as nap\n",
    "import dendro.client as prc\n",
    "import remfile\n",
    "from TuningCurves2DView import TuningCurves2DView\n",
    "\n",
    "\n",
    "# Load project D-000128\n",
    "project = prc.load_project(\"a016a71a\")\n",
    "dandiset_id = \"000128\"\n",
    "\n",
    "# Select an NWB file\n",
    "asset_path = \"sub-Jenkins/sub-Jenkins_ses-full_desc-train_behavior+ecephys.nwb\"\n",
    "\n",
    "# Lazy load NWB file\n",
    "file = remfile.File(project.get_file(f\"imported/{dandiset_id}/{asset_path}\"))\n",
    "io = pynwb.NWBHDF5IO(file=h5py.File(file, \"r\"), mode=\"r\")\n",
    "nwbfile = io.read()"
   ]
  },
  {
   "cell_type": "code",
   "execution_count": 2,
   "metadata": {},
   "outputs": [],
   "source": [
    "# Load the cursor position into a pynapple TsdFrame\n",
    "spatial_series = nwbfile.processing[\"behavior\"][\"cursor_pos\"]\n",
    "position_over_time = nap.TsdFrame(\n",
    "    d=spatial_series.data[:],\n",
    "    t=spatial_series.timestamps[:],\n",
    "    columns=[\"x\", \"y\"],\n",
    ")"
   ]
  },
  {
   "cell_type": "code",
   "execution_count": 3,
   "metadata": {},
   "outputs": [
    {
     "name": "stderr",
     "output_type": "stream",
     "text": [
      "/tmp/ipykernel_101884/2119542534.py:4: UserWarning: Elements should not be passed as numpy array. Default time units is seconds when creating the Ts object.\n",
      "  spike_times_group = nap.TsGroup(\n"
     ]
    }
   ],
   "source": [
    "# Load the unit spike times into a pynapple TsGroup\n",
    "unit_names = nwbfile.units[\"id\"][:]\n",
    "unit_spike_times = nwbfile.units[\"spike_times\"][:]\n",
    "spike_times_group = nap.TsGroup(\n",
    "    {i: unit_spike_times[i] for i in range(len(unit_names))}\n",
    ")"
   ]
  },
  {
   "cell_type": "code",
   "execution_count": 4,
   "metadata": {},
   "outputs": [
    {
     "name": "stderr",
     "output_type": "stream",
     "text": [
      "/home/magland/miniconda3/envs/D-000128/lib/python3.9/site-packages/pynapple/process/tuning_curves.py:203: RuntimeWarning: invalid value encountered in divide\n",
      "  count = count / occupancy\n"
     ]
    }
   ],
   "source": [
    "# Compute 2D tuning curves\n",
    "num_bins = 30\n",
    "rate_maps, position_bins = nap.compute_2d_tuning_curves(\n",
    "    spike_times_group,\n",
    "    position_over_time,\n",
    "    num_bins,\n",
    ")"
   ]
  },
  {
   "cell_type": "code",
   "execution_count": 5,
   "metadata": {},
   "outputs": [
    {
     "name": "stdout",
     "output_type": "stream",
     "text": [
      "https://figurl.org/f?v=https://figurl-tuning-curves-1.surge.sh&d=sha1://2abecf4d2710010de0067a7fe7c9ecb237fb9bf3&label=000128/sub-Jenkins/sub-Jenkins_ses-full_desc-train_behavior+ecephys.nwb|tuning-curves-2d\n"
     ]
    },
    {
     "data": {
      "text/html": [
       "\n",
       "        <iframe\n",
       "            width=\"95%\"\n",
       "            height=\"500\"\n",
       "            src=\"https://figurl.org/f?v=https://figurl-tuning-curves-1.surge.sh&d=sha1://2abecf4d2710010de0067a7fe7c9ecb237fb9bf3&label=000128/sub-Jenkins/sub-Jenkins_ses-full_desc-train_behavior+ecephys.nwb|tuning-curves-2d&hide=1\"\n",
       "            frameborder=\"0\"\n",
       "            allowfullscreen\n",
       "            \n",
       "        ></iframe>\n",
       "        "
      ],
      "text/plain": [
       "<IPython.lib.display.IFrame at 0x7f3104514970>"
      ]
     },
     "metadata": {},
     "output_type": "display_data"
    }
   ],
   "source": [
    "# Construct a tuning curves figurl view\n",
    "V = TuningCurves2DView(\n",
    "    rate_maps=[rate_maps[i] for i in range(len(unit_names))],\n",
    "    x_bin_positions=position_bins[0],\n",
    "    y_bin_positions=position_bins[1],\n",
    "    unit_ids=unit_names,\n",
    "    unit_num_spikes=[len(spike_times_group[i]) for i in range(len(unit_names))],\n",
    ")\n",
    "view_url = V.get_view_url(label=f\"{dandiset_id}/{asset_path}|tuning-curves-2d\")\n",
    "\n",
    "# Print the view URL\n",
    "print(view_url)\n",
    "\n",
    "# Display the view in an iframe\n",
    "from IPython.display import IFrame\n",
    "display(IFrame(view_url + \"&hide=1\", width=\"95%\", height=500))"
   ]
  }
 ],
 "metadata": {
  "kernelspec": {
   "display_name": "dev",
   "language": "python",
   "name": "python3"
  },
  "language_info": {
   "codemirror_mode": {
    "name": "ipython",
    "version": 3
   },
   "file_extension": ".py",
   "mimetype": "text/x-python",
   "name": "python",
   "nbconvert_exporter": "python",
   "pygments_lexer": "ipython3",
   "version": "3.9.18"
  }
 },
 "nbformat": 4,
 "nbformat_minor": 2
}
