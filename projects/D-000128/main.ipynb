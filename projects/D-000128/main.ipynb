{
 "cells": [
  {
   "cell_type": "code",
   "execution_count": 3,
   "metadata": {},
   "outputs": [],
   "source": [
    "import numpy as np\n",
    "import h5py\n",
    "# import pynwb\n",
    "import dendro.client as prc\n",
    "import remfile\n",
    "import kachery_cloud as kcl\n",
    "import figurl\n",
    "\n",
    "\n",
    "# Load project D-000128\n",
    "project = prc.load_project('a016a71a')\n",
    "\n",
    "# Lazy load imported/000128/sub-Jenkins/sub-Jenkins_ses-full_desc-train_behavior+ecephys.nwb\n",
    "nwb_file = project.get_file('imported/000128/sub-Jenkins/sub-Jenkins_ses-full_desc-train_behavior+ecephys.nwb')\n",
    "nwb_remf = remfile.File(nwb_file)\n",
    "nwb_h5 = h5py.File(nwb_remf, 'r')\n",
    "# io = pynwb.NWBHDF5IO(file=nwb_h5, mode='r')\n",
    "# nwb = io.read()"
   ]
  },
  {
   "cell_type": "code",
   "execution_count": 4,
   "metadata": {},
   "outputs": [],
   "source": [
    "timestamps = nwb_h5['/processing/behavior/cursor_pos/timestamps'][:]\n",
    "cursor_pos = nwb_h5['/processing/behavior/cursor_pos/data'][:]\n",
    "spike_times = nwb_h5['/units/spike_times'][:]\n",
    "spike_times_index = nwb_h5['/units/spike_times_index'][:]\n",
    "unit_ids = nwb_h5['/units/id'][:]"
   ]
  },
  {
   "cell_type": "code",
   "execution_count": 7,
   "metadata": {},
   "outputs": [
    {
     "name": "stdout",
     "output_type": "stream",
     "text": [
      "https://figurl.org/f?v=https://figurl-place-fields.surge.sh&d=sha1://388c94249c798d28a94d02eeefae7c868b21efcf\n"
     ]
    },
    {
     "data": {
      "text/html": [
       "\n",
       "        <iframe\n",
       "            width=\"100%\"\n",
       "            height=\"600\"\n",
       "            src=\"https://figurl.org/f?v=https://figurl-place-fields.surge.sh&d=sha1://388c94249c798d28a94d02eeefae7c868b21efcf&hide=1\"\n",
       "            frameborder=\"0\"\n",
       "            allowfullscreen\n",
       "            \n",
       "        ></iframe>\n",
       "        "
      ],
      "text/plain": [
       "<IPython.lib.display.IFrame at 0x7fcb05f05700>"
      ]
     },
     "execution_count": 7,
     "metadata": {},
     "output_type": "execute_result"
    }
   ],
   "source": [
    "place_fields = []\n",
    "def _get_spike_times_indices(spike_times, timestamps):\n",
    "    return np.searchsorted(timestamps, spike_times, side='left')\n",
    "for j in range(len(unit_ids)):\n",
    "    unit_id = unit_ids[j]\n",
    "    i1 = 0 if j == 0 else spike_times_index[j-1]\n",
    "    i2 = spike_times_index[j]\n",
    "    spike_times0 = spike_times[i1:i2]\n",
    "    spike_times0_indices = _get_spike_times_indices(spike_times0, timestamps)\n",
    "    cursor_pos0 = cursor_pos[spike_times0_indices]\n",
    "    place_fields.append({\n",
    "        'unitId': unit_id,\n",
    "        'x': cursor_pos0[:, 0].astype(np.float32),\n",
    "        'y': cursor_pos0[:, 1].astype(np.float32)\n",
    "    })\n",
    "data = {\n",
    "    'type': 'place_fields',\n",
    "    'placeFields': place_fields\n",
    "}\n",
    "data_uri = kcl.store_json(figurl.serialize_data(data))\n",
    "# fi-sci figurl-spike-sorting-analysis\n",
    "view_url = f'https://figurl.org/f?v=https://figurl-place-fields.surge.sh&d={data_uri}'\n",
    "print(view_url)\n",
    "\n",
    "from IPython.display import IFrame\n",
    "IFrame(src=view_url + '&hide=1', width='100%', height=600)"
   ]
  },
  {
   "cell_type": "code",
   "execution_count": null,
   "metadata": {},
   "outputs": [],
   "source": []
  }
 ],
 "metadata": {
  "kernelspec": {
   "display_name": "dev",
   "language": "python",
   "name": "python3"
  },
  "language_info": {
   "codemirror_mode": {
    "name": "ipython",
    "version": 3
   },
   "file_extension": ".py",
   "mimetype": "text/x-python",
   "name": "python",
   "nbconvert_exporter": "python",
   "pygments_lexer": "ipython3",
   "version": "3.9.18"
  }
 },
 "nbformat": 4,
 "nbformat_minor": 2
}
